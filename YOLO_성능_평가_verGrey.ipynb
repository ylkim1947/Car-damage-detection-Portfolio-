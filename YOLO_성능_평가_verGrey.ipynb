{
  "nbformat": 4,
  "nbformat_minor": 0,
  "metadata": {
    "colab": {
      "provenance": [],
      "machine_shape": "hm",
      "collapsed_sections": [],
      "authorship_tag": "ABX9TyNNEGx0RyYLBIbAGtsnk0bQ",
      "include_colab_link": true
    },
    "kernelspec": {
      "name": "python3",
      "display_name": "Python 3"
    },
    "language_info": {
      "name": "python"
    },
    "accelerator": "GPU",
    "gpuClass": "premium"
  },
  "cells": [
    {
      "cell_type": "markdown",
      "metadata": {
        "id": "view-in-github",
        "colab_type": "text"
      },
      "source": [
        "<a href=\"https://colab.research.google.com/github/ylkim1947/Section6---Car-damage-detection/blob/main/YOLO_%EC%84%B1%EB%8A%A5_%ED%8F%89%EA%B0%80_verGrey.ipynb\" target=\"_parent\"><img src=\"https://colab.research.google.com/assets/colab-badge.svg\" alt=\"Open In Colab\"/></a>"
      ]
    },
    {
      "cell_type": "markdown",
      "source": [
        "Grey 전처리 저장된 Weight로 Grey data 테스트 및 성능 평가 \n"
      ],
      "metadata": {
        "id": "d9mGvZP3ILS5"
      }
    },
    {
      "cell_type": "markdown",
      "source": [
        "# 1. Data 준비하기"
      ],
      "metadata": {
        "id": "XxVZaR70rh5f"
      }
    },
    {
      "cell_type": "code",
      "source": [
        "from google.colab import drive\n",
        "drive.mount('/content/drive')"
      ],
      "metadata": {
        "id": "o4grNY--1IoZ",
        "outputId": "d70864ca-45c7-49d1-ef3c-d7af73443130",
        "colab": {
          "base_uri": "https://localhost:8080/"
        }
      },
      "execution_count": 1,
      "outputs": [
        {
          "output_type": "stream",
          "name": "stdout",
          "text": [
            "Mounted at /content/drive\n"
          ]
        }
      ]
    },
    {
      "cell_type": "code",
      "metadata": {
        "id": "59bxmTd0krk4",
        "colab": {
          "base_uri": "https://localhost:8080/"
        },
        "outputId": "32b766aa-d4f1-4d0f-cee5-907bcfe4c39a"
      },
      "source": [
        "data_type='images'# 'images_normalization'#\n",
        "from glob import glob\n",
        "YOLO_path ='/content/drive/MyDrive/Colab Notebooks/project4/yolov5'\n",
        "DATA_path = YOLO_path+'/Socar_Hackerthon-2'\n",
        "\n",
        "dataset_path ='/content/drive/MyDrive/Colab Notebooks/project4/yolov5/Socar_Hackerthon-2'\n",
        "img_list = glob(DATA_path +f'/train/{data_type}/*.jpg')\n",
        "\n",
        "print(len(img_list))"
      ],
      "execution_count": 2,
      "outputs": [
        {
          "output_type": "stream",
          "name": "stdout",
          "text": [
            "2989\n"
          ]
        }
      ]
    },
    {
      "cell_type": "code",
      "metadata": {
        "id": "cJbipgDylAHY",
        "colab": {
          "base_uri": "https://localhost:8080/"
        },
        "outputId": "aebea106-0609-4998-fc4e-ee023b40eff8"
      },
      "source": [
        "from sklearn.model_selection import train_test_split\n",
        "\n",
        "train_img_list, val_img_list = train_test_split(img_list, test_size=0.2, random_state=2000)\n",
        "\n",
        "print(len(train_img_list), len(val_img_list))"
      ],
      "execution_count": 3,
      "outputs": [
        {
          "output_type": "stream",
          "name": "stdout",
          "text": [
            "2391 598\n"
          ]
        }
      ]
    },
    {
      "cell_type": "code",
      "metadata": {
        "id": "YewU3sWClTyh"
      },
      "source": [
        "with open(DATA_path +'train.txt', 'w') as f:\n",
        "  f.write('\\n'.join(train_img_list) + '\\n')\n",
        "\n",
        "with open(DATA_path+'/val.txt', 'w') as f:\n",
        "  f.write('\\n'.join(val_img_list) + '\\n')"
      ],
      "execution_count": 4,
      "outputs": []
    },
    {
      "cell_type": "code",
      "metadata": {
        "id": "w8JhXyYBlrrW",
        "colab": {
          "base_uri": "https://localhost:8080/"
        },
        "outputId": "c423cbc7-2d04-444c-cba8-36e9f2337362"
      },
      "source": [
        "import yaml\n",
        "\n",
        "with open(DATA_path +'/data.yaml', 'r') as f:\n",
        "  data = yaml.load(f,Loader=yaml.FullLoader)\n",
        "\n",
        "print(data)\n",
        "\n",
        "data['train'] = DATA_path +'/train.txt'\n",
        "data['val'] = DATA_path +'/val.txt'\n",
        "\n",
        "with open(DATA_path +'/data.yaml', 'w') as f:\n",
        "  yaml.dump(data, f)\n",
        "\n",
        "print(data)"
      ],
      "execution_count": 5,
      "outputs": [
        {
          "output_type": "stream",
          "name": "stdout",
          "text": [
            "{'names': ['crack', 'dent', 'scratch'], 'nc': 3, 'train': '/content/drive/MyDrive/Colab Notebooks/project4/yolov5/Socar_Hackerthon-2/train.txt', 'val': '/content/drive/MyDrive/Colab Notebooks/project4/yolov5/Socar_Hackerthon-2/val.txt'}\n",
            "{'names': ['crack', 'dent', 'scratch'], 'nc': 3, 'train': '/content/drive/MyDrive/Colab Notebooks/project4/yolov5/Socar_Hackerthon-2/train.txt', 'val': '/content/drive/MyDrive/Colab Notebooks/project4/yolov5/Socar_Hackerthon-2/val.txt'}\n"
          ]
        }
      ]
    },
    {
      "cell_type": "code",
      "source": [],
      "metadata": {
        "id": "NbZvFw8ALR-E"
      },
      "execution_count": 5,
      "outputs": []
    },
    {
      "cell_type": "markdown",
      "source": [
        "# 2. YOLO 모델 "
      ],
      "metadata": {
        "id": "LaHqiTRhrzpf"
      }
    },
    {
      "cell_type": "code",
      "source": [
        "import os \n",
        "if os.path.isdir(DATA_path):\n",
        "  %cat '/content/drive/MyDrive/Colab Notebooks/project4/dataset/data.yaml'\n",
        "else: \n",
        "  !curl -L \"https://public.roboflow.ai/ds/WKkUorQ71T?key=wIBAdyawPa\" > roboflow.zip; unzip roboflow.zip; rm roboflow.zip\n",
        "  %cat '/content/drive/MyDrive/Colab Notebooks/project4/dataset/data.yaml'"
      ],
      "metadata": {
        "id": "2u6gxCxK165Y",
        "colab": {
          "base_uri": "https://localhost:8080/"
        },
        "outputId": "fc509203-322b-48ac-f36c-304c8ec601f1"
      },
      "execution_count": 6,
      "outputs": [
        {
          "output_type": "stream",
          "name": "stdout",
          "text": [
            "names:\n",
            "- car\n",
            "nc: 1\n",
            "test: /content/drive/MyDrive/Colab Notebooks/project4/yolov5/Socar_Hackerthon-2/test.txt\n",
            "train: /content/drive/MyDrive/Colab Notebooks/project4/yolov5/Socar_Hackerthon-2/train.txt\n"
          ]
        }
      ]
    },
    {
      "cell_type": "code",
      "metadata": {
        "id": "5KuEs80vi8_9",
        "outputId": "3fb6f68d-ad38-4a7f-98de-f7f5b0b1cafa",
        "colab": {
          "base_uri": "https://localhost:8080/"
        }
      },
      "source": [
        "if os.path.isdir(YOLO_path):\n",
        "  %cd '/content/drive/MyDrive/Colab Notebooks/project4/yolov5'\n",
        "  !pip install -r requirements.txt\n",
        "else:\n",
        "  %cd /content\n",
        "  !git clone https://github.com/ultralytics/yolov5.git\n",
        "\n"
      ],
      "execution_count": 7,
      "outputs": [
        {
          "output_type": "stream",
          "name": "stdout",
          "text": [
            "/content/drive/MyDrive/Colab Notebooks/project4/yolov5\n",
            "Looking in indexes: https://pypi.org/simple, https://us-python.pkg.dev/colab-wheels/public/simple/\n",
            "Requirement already satisfied: matplotlib>=3.2.2 in /usr/local/lib/python3.7/dist-packages (from -r requirements.txt (line 5)) (3.2.2)\n",
            "Requirement already satisfied: numpy>=1.18.5 in /usr/local/lib/python3.7/dist-packages (from -r requirements.txt (line 6)) (1.21.6)\n",
            "Requirement already satisfied: opencv-python>=4.1.1 in /usr/local/lib/python3.7/dist-packages (from -r requirements.txt (line 7)) (4.6.0.66)\n",
            "Requirement already satisfied: Pillow>=7.1.2 in /usr/local/lib/python3.7/dist-packages (from -r requirements.txt (line 8)) (7.1.2)\n",
            "Requirement already satisfied: PyYAML>=5.3.1 in /usr/local/lib/python3.7/dist-packages (from -r requirements.txt (line 9)) (6.0)\n",
            "Requirement already satisfied: requests>=2.23.0 in /usr/local/lib/python3.7/dist-packages (from -r requirements.txt (line 10)) (2.23.0)\n",
            "Requirement already satisfied: scipy>=1.4.1 in /usr/local/lib/python3.7/dist-packages (from -r requirements.txt (line 11)) (1.7.3)\n",
            "Requirement already satisfied: torch>=1.7.0 in /usr/local/lib/python3.7/dist-packages (from -r requirements.txt (line 12)) (1.12.1+cu113)\n",
            "Requirement already satisfied: torchvision>=0.8.1 in /usr/local/lib/python3.7/dist-packages (from -r requirements.txt (line 13)) (0.13.1+cu113)\n",
            "Requirement already satisfied: tqdm>=4.64.0 in /usr/local/lib/python3.7/dist-packages (from -r requirements.txt (line 14)) (4.64.1)\n",
            "Requirement already satisfied: tensorboard>=2.4.1 in /usr/local/lib/python3.7/dist-packages (from -r requirements.txt (line 18)) (2.9.1)\n",
            "Requirement already satisfied: pandas>=1.1.4 in /usr/local/lib/python3.7/dist-packages (from -r requirements.txt (line 23)) (1.3.5)\n",
            "Requirement already satisfied: seaborn>=0.11.0 in /usr/local/lib/python3.7/dist-packages (from -r requirements.txt (line 24)) (0.11.2)\n",
            "Requirement already satisfied: ipython in /usr/local/lib/python3.7/dist-packages (from -r requirements.txt (line 41)) (7.9.0)\n",
            "Requirement already satisfied: psutil in /usr/local/lib/python3.7/dist-packages (from -r requirements.txt (line 42)) (5.4.8)\n",
            "Collecting thop>=0.1.1\n",
            "  Downloading thop-0.1.1.post2209072238-py3-none-any.whl (15 kB)\n",
            "Requirement already satisfied: kiwisolver>=1.0.1 in /usr/local/lib/python3.7/dist-packages (from matplotlib>=3.2.2->-r requirements.txt (line 5)) (1.4.4)\n",
            "Requirement already satisfied: pyparsing!=2.0.4,!=2.1.2,!=2.1.6,>=2.0.1 in /usr/local/lib/python3.7/dist-packages (from matplotlib>=3.2.2->-r requirements.txt (line 5)) (3.0.9)\n",
            "Requirement already satisfied: cycler>=0.10 in /usr/local/lib/python3.7/dist-packages (from matplotlib>=3.2.2->-r requirements.txt (line 5)) (0.11.0)\n",
            "Requirement already satisfied: python-dateutil>=2.1 in /usr/local/lib/python3.7/dist-packages (from matplotlib>=3.2.2->-r requirements.txt (line 5)) (2.8.2)\n",
            "Requirement already satisfied: certifi>=2017.4.17 in /usr/local/lib/python3.7/dist-packages (from requests>=2.23.0->-r requirements.txt (line 10)) (2022.9.24)\n",
            "Requirement already satisfied: idna<3,>=2.5 in /usr/local/lib/python3.7/dist-packages (from requests>=2.23.0->-r requirements.txt (line 10)) (2.10)\n",
            "Requirement already satisfied: urllib3!=1.25.0,!=1.25.1,<1.26,>=1.21.1 in /usr/local/lib/python3.7/dist-packages (from requests>=2.23.0->-r requirements.txt (line 10)) (1.24.3)\n",
            "Requirement already satisfied: chardet<4,>=3.0.2 in /usr/local/lib/python3.7/dist-packages (from requests>=2.23.0->-r requirements.txt (line 10)) (3.0.4)\n",
            "Requirement already satisfied: typing-extensions in /usr/local/lib/python3.7/dist-packages (from torch>=1.7.0->-r requirements.txt (line 12)) (4.1.1)\n",
            "Requirement already satisfied: markdown>=2.6.8 in /usr/local/lib/python3.7/dist-packages (from tensorboard>=2.4.1->-r requirements.txt (line 18)) (3.4.1)\n",
            "Requirement already satisfied: werkzeug>=1.0.1 in /usr/local/lib/python3.7/dist-packages (from tensorboard>=2.4.1->-r requirements.txt (line 18)) (1.0.1)\n",
            "Requirement already satisfied: protobuf<3.20,>=3.9.2 in /usr/local/lib/python3.7/dist-packages (from tensorboard>=2.4.1->-r requirements.txt (line 18)) (3.19.6)\n",
            "Requirement already satisfied: tensorboard-data-server<0.7.0,>=0.6.0 in /usr/local/lib/python3.7/dist-packages (from tensorboard>=2.4.1->-r requirements.txt (line 18)) (0.6.1)\n",
            "Requirement already satisfied: absl-py>=0.4 in /usr/local/lib/python3.7/dist-packages (from tensorboard>=2.4.1->-r requirements.txt (line 18)) (1.3.0)\n",
            "Requirement already satisfied: grpcio>=1.24.3 in /usr/local/lib/python3.7/dist-packages (from tensorboard>=2.4.1->-r requirements.txt (line 18)) (1.50.0)\n",
            "Requirement already satisfied: setuptools>=41.0.0 in /usr/local/lib/python3.7/dist-packages (from tensorboard>=2.4.1->-r requirements.txt (line 18)) (57.4.0)\n",
            "Requirement already satisfied: google-auth-oauthlib<0.5,>=0.4.1 in /usr/local/lib/python3.7/dist-packages (from tensorboard>=2.4.1->-r requirements.txt (line 18)) (0.4.6)\n",
            "Requirement already satisfied: tensorboard-plugin-wit>=1.6.0 in /usr/local/lib/python3.7/dist-packages (from tensorboard>=2.4.1->-r requirements.txt (line 18)) (1.8.1)\n",
            "Requirement already satisfied: google-auth<3,>=1.6.3 in /usr/local/lib/python3.7/dist-packages (from tensorboard>=2.4.1->-r requirements.txt (line 18)) (2.14.1)\n",
            "Requirement already satisfied: wheel>=0.26 in /usr/local/lib/python3.7/dist-packages (from tensorboard>=2.4.1->-r requirements.txt (line 18)) (0.38.3)\n",
            "Requirement already satisfied: pytz>=2017.3 in /usr/local/lib/python3.7/dist-packages (from pandas>=1.1.4->-r requirements.txt (line 23)) (2022.6)\n",
            "Requirement already satisfied: cachetools<6.0,>=2.0.0 in /usr/local/lib/python3.7/dist-packages (from google-auth<3,>=1.6.3->tensorboard>=2.4.1->-r requirements.txt (line 18)) (5.2.0)\n",
            "Requirement already satisfied: rsa<5,>=3.1.4 in /usr/local/lib/python3.7/dist-packages (from google-auth<3,>=1.6.3->tensorboard>=2.4.1->-r requirements.txt (line 18)) (4.9)\n",
            "Requirement already satisfied: six>=1.9.0 in /usr/local/lib/python3.7/dist-packages (from google-auth<3,>=1.6.3->tensorboard>=2.4.1->-r requirements.txt (line 18)) (1.15.0)\n",
            "Requirement already satisfied: pyasn1-modules>=0.2.1 in /usr/local/lib/python3.7/dist-packages (from google-auth<3,>=1.6.3->tensorboard>=2.4.1->-r requirements.txt (line 18)) (0.2.8)\n",
            "Requirement already satisfied: requests-oauthlib>=0.7.0 in /usr/local/lib/python3.7/dist-packages (from google-auth-oauthlib<0.5,>=0.4.1->tensorboard>=2.4.1->-r requirements.txt (line 18)) (1.3.1)\n",
            "Requirement already satisfied: importlib-metadata>=4.4 in /usr/local/lib/python3.7/dist-packages (from markdown>=2.6.8->tensorboard>=2.4.1->-r requirements.txt (line 18)) (4.13.0)\n",
            "Requirement already satisfied: zipp>=0.5 in /usr/local/lib/python3.7/dist-packages (from importlib-metadata>=4.4->markdown>=2.6.8->tensorboard>=2.4.1->-r requirements.txt (line 18)) (3.10.0)\n",
            "Requirement already satisfied: pyasn1<0.5.0,>=0.4.6 in /usr/local/lib/python3.7/dist-packages (from pyasn1-modules>=0.2.1->google-auth<3,>=1.6.3->tensorboard>=2.4.1->-r requirements.txt (line 18)) (0.4.8)\n",
            "Requirement already satisfied: oauthlib>=3.0.0 in /usr/local/lib/python3.7/dist-packages (from requests-oauthlib>=0.7.0->google-auth-oauthlib<0.5,>=0.4.1->tensorboard>=2.4.1->-r requirements.txt (line 18)) (3.2.2)\n",
            "Requirement already satisfied: prompt-toolkit<2.1.0,>=2.0.0 in /usr/local/lib/python3.7/dist-packages (from ipython->-r requirements.txt (line 41)) (2.0.10)\n",
            "Requirement already satisfied: backcall in /usr/local/lib/python3.7/dist-packages (from ipython->-r requirements.txt (line 41)) (0.2.0)\n",
            "Requirement already satisfied: decorator in /usr/local/lib/python3.7/dist-packages (from ipython->-r requirements.txt (line 41)) (4.4.2)\n",
            "Collecting jedi>=0.10\n",
            "  Downloading jedi-0.18.1-py2.py3-none-any.whl (1.6 MB)\n",
            "\u001b[K     |████████████████████████████████| 1.6 MB 4.7 MB/s \n",
            "\u001b[?25hRequirement already satisfied: pexpect in /usr/local/lib/python3.7/dist-packages (from ipython->-r requirements.txt (line 41)) (4.8.0)\n",
            "Requirement already satisfied: traitlets>=4.2 in /usr/local/lib/python3.7/dist-packages (from ipython->-r requirements.txt (line 41)) (5.1.1)\n",
            "Requirement already satisfied: pickleshare in /usr/local/lib/python3.7/dist-packages (from ipython->-r requirements.txt (line 41)) (0.7.5)\n",
            "Requirement already satisfied: pygments in /usr/local/lib/python3.7/dist-packages (from ipython->-r requirements.txt (line 41)) (2.6.1)\n",
            "Requirement already satisfied: parso<0.9.0,>=0.8.0 in /usr/local/lib/python3.7/dist-packages (from jedi>=0.10->ipython->-r requirements.txt (line 41)) (0.8.3)\n",
            "Requirement already satisfied: wcwidth in /usr/local/lib/python3.7/dist-packages (from prompt-toolkit<2.1.0,>=2.0.0->ipython->-r requirements.txt (line 41)) (0.2.5)\n",
            "Requirement already satisfied: ptyprocess>=0.5 in /usr/local/lib/python3.7/dist-packages (from pexpect->ipython->-r requirements.txt (line 41)) (0.7.0)\n",
            "Installing collected packages: jedi, thop\n",
            "Successfully installed jedi-0.18.1 thop-0.1.1.post2209072238\n"
          ]
        }
      ]
    },
    {
      "cell_type": "markdown",
      "source": [
        "# 성능 평가\n"
      ],
      "metadata": {
        "id": "WXHQ1lDeAx0X"
      }
    },
    {
      "cell_type": "markdown",
      "source": [
        "## 1. Original"
      ],
      "metadata": {
        "id": "QL0_rFKgIctE"
      }
    },
    {
      "cell_type": "code",
      "source": [
        "## cars_yolov5s_results2 = Original \n",
        "%cd '/content/drive/MyDrive/Colab Notebooks/project4/yolov5'\n",
        "# task  'speed or study' 'val'\n",
        "!python val.py --weights '/content/drive/MyDrive/Colab Notebooks/project4/yolov5/runs/train/cars_yolov5s_results2/weights/best.pt' --data '/content/drive/MyDrive/Colab Notebooks/project4/yolov5/Socar_Hackerthon-2/data.yaml' --img 416 --task 'val'\n"
      ],
      "metadata": {
        "colab": {
          "base_uri": "https://localhost:8080/"
        },
        "id": "GKrekY5a9g2r",
        "outputId": "298bcee4-fe98-4d78-c1ca-19f53ef2a798"
      },
      "execution_count": 8,
      "outputs": [
        {
          "output_type": "stream",
          "name": "stdout",
          "text": [
            "/content/drive/MyDrive/Colab Notebooks/project4/yolov5\n",
            "\u001b[34m\u001b[1mval: \u001b[0mdata=/content/drive/MyDrive/Colab Notebooks/project4/yolov5/Socar_Hackerthon-2/data.yaml, weights=['/content/drive/MyDrive/Colab Notebooks/project4/yolov5/runs/train/cars_yolov5s_results2/weights/best.pt'], batch_size=32, imgsz=416, conf_thres=0.001, iou_thres=0.6, max_det=300, task=val, device=, workers=8, single_cls=False, augment=False, verbose=False, save_txt=False, save_hybrid=False, save_conf=False, save_json=False, project=runs/val, name=exp, exist_ok=False, half=False, dnn=False\n",
            "fatal: cannot change to '/content/drive/MyDrive/Colab': No such file or directory\n",
            "YOLOv5 🚀 2022-9-29 Python-3.7.15 torch-1.12.1+cu113 CUDA:0 (A100-SXM4-40GB, 40536MiB)\n",
            "\n",
            "Fusing layers... \n",
            "YOLOv5s summary: 157 layers, 7018216 parameters, 0 gradients, 15.8 GFLOPs\n",
            "Downloading https://ultralytics.com/assets/Arial.ttf to /root/.config/Ultralytics/Arial.ttf...\n",
            "100% 755k/755k [00:00<00:00, 16.5MB/s]\n",
            "\u001b[34m\u001b[1mval: \u001b[0mScanning '/content/drive/MyDrive/Colab Notebooks/project4/yolov5/Socar_Hackerthon-2/val' images and labels...598 found, 0 missing, 0 empty, 0 corrupt: 100% 598/598 [01:02<00:00,  9.52it/s]\n",
            "\u001b[34m\u001b[1mval: \u001b[0mNew cache created: /content/drive/MyDrive/Colab Notebooks/project4/yolov5/Socar_Hackerthon-2/val.cache\n",
            "                 Class     Images  Instances          P          R      mAP50   mAP50-95: 100% 19/19 [00:06<00:00,  3.05it/s]\n",
            "                   all        598        990      0.965      0.888      0.935      0.637\n",
            "                 crack        598         57       0.98       0.84      0.913      0.599\n",
            "                  dent        598         49       0.98      0.898      0.935      0.666\n",
            "               scratch        598        884      0.934      0.925      0.957      0.645\n",
            "Speed: 0.1ms pre-process, 0.6ms inference, 2.5ms NMS per image at shape (32, 3, 416, 416)\n",
            "Results saved to \u001b[1mruns/val/exp16\u001b[0m\n"
          ]
        }
      ]
    },
    {
      "cell_type": "markdown",
      "source": [
        "## 2. Normalization "
      ],
      "metadata": {
        "id": "IvY1A642ImHV"
      }
    },
    {
      "cell_type": "code",
      "source": [
        "## cars_yolov5s_results3 = Normalized images \n",
        "\n",
        "%cd '/content/drive/MyDrive/Colab Notebooks/project4/yolov5'\n",
        "# task  'speed or study' 'val'\n",
        "!python val.py --weights '/content/drive/MyDrive/Colab Notebooks/project4/yolov5/runs/train/cars_yolov5s_results3/weights/best.pt' --data '/content/drive/MyDrive/Colab Notebooks/project4/yolov5/Socar_Hackerthon-2/data.yaml' --img 416 --task 'val'\n"
      ],
      "metadata": {
        "colab": {
          "base_uri": "https://localhost:8080/"
        },
        "id": "dxLRVLhTFJEj",
        "outputId": "f045b4b2-75bc-43b5-f1eb-2be0809f4b2e"
      },
      "execution_count": 9,
      "outputs": [
        {
          "output_type": "stream",
          "name": "stdout",
          "text": [
            "/content/drive/MyDrive/Colab Notebooks/project4/yolov5\n",
            "\u001b[34m\u001b[1mval: \u001b[0mdata=/content/drive/MyDrive/Colab Notebooks/project4/yolov5/Socar_Hackerthon-2/data.yaml, weights=['/content/drive/MyDrive/Colab Notebooks/project4/yolov5/runs/train/cars_yolov5s_results3/weights/best.pt'], batch_size=32, imgsz=416, conf_thres=0.001, iou_thres=0.6, max_det=300, task=val, device=, workers=8, single_cls=False, augment=False, verbose=False, save_txt=False, save_hybrid=False, save_conf=False, save_json=False, project=runs/val, name=exp, exist_ok=False, half=False, dnn=False\n",
            "fatal: cannot change to '/content/drive/MyDrive/Colab': No such file or directory\n",
            "YOLOv5 🚀 2022-9-29 Python-3.7.15 torch-1.12.1+cu113 CUDA:0 (A100-SXM4-40GB, 40536MiB)\n",
            "\n",
            "Fusing layers... \n",
            "YOLOv5s summary: 157 layers, 7018216 parameters, 0 gradients, 15.8 GFLOPs\n",
            "\u001b[34m\u001b[1mval: \u001b[0mScanning '/content/drive/MyDrive/Colab Notebooks/project4/yolov5/Socar_Hackerthon-2/val.cache' images and labels... 598 found, 0 missing, 0 empty, 0 corrupt: 100% 598/598 [00:00<?, ?it/s]\n",
            "                 Class     Images  Instances          P          R      mAP50   mAP50-95: 100% 19/19 [00:04<00:00,  4.19it/s]\n",
            "                   all        598        990      0.669      0.378       0.43      0.183\n",
            "                 crack        598         57      0.646      0.256      0.333      0.129\n",
            "                  dent        598         49      0.753      0.249      0.328      0.128\n",
            "               scratch        598        884      0.608      0.629      0.629       0.29\n",
            "Speed: 0.1ms pre-process, 0.6ms inference, 2.4ms NMS per image at shape (32, 3, 416, 416)\n",
            "Results saved to \u001b[1mruns/val/exp17\u001b[0m\n"
          ]
        }
      ]
    },
    {
      "cell_type": "markdown",
      "source": [
        "## 3. Gaussian noise"
      ],
      "metadata": {
        "id": "qJ_sp_bEI7uo"
      }
    },
    {
      "cell_type": "code",
      "source": [
        "## cars_yolov5s_results4\n",
        "%cd '/content/drive/MyDrive/Colab Notebooks/project4/yolov5'\n",
        "# task  'speed or study' 'val'\n",
        "!python val.py --weights '/content/drive/MyDrive/Colab Notebooks/project4/yolov5/runs/train/cars_yolov5s_results4/weights/best.pt' --data '/content/drive/MyDrive/Colab Notebooks/project4/yolov5/Socar_Hackerthon-2/data.yaml' --img 416 --task 'val'\n"
      ],
      "metadata": {
        "id": "Oul2CYLwGTYc",
        "colab": {
          "base_uri": "https://localhost:8080/"
        },
        "outputId": "8dd87421-1b7f-4e39-dc3f-fa4ccf1d1584"
      },
      "execution_count": 10,
      "outputs": [
        {
          "output_type": "stream",
          "name": "stdout",
          "text": [
            "/content/drive/MyDrive/Colab Notebooks/project4/yolov5\n",
            "\u001b[34m\u001b[1mval: \u001b[0mdata=/content/drive/MyDrive/Colab Notebooks/project4/yolov5/Socar_Hackerthon-2/data.yaml, weights=['/content/drive/MyDrive/Colab Notebooks/project4/yolov5/runs/train/cars_yolov5s_results4/weights/best.pt'], batch_size=32, imgsz=416, conf_thres=0.001, iou_thres=0.6, max_det=300, task=val, device=, workers=8, single_cls=False, augment=False, verbose=False, save_txt=False, save_hybrid=False, save_conf=False, save_json=False, project=runs/val, name=exp, exist_ok=False, half=False, dnn=False\n",
            "fatal: cannot change to '/content/drive/MyDrive/Colab': No such file or directory\n",
            "YOLOv5 🚀 2022-9-29 Python-3.7.15 torch-1.12.1+cu113 CUDA:0 (A100-SXM4-40GB, 40536MiB)\n",
            "\n",
            "Fusing layers... \n",
            "YOLOv5s summary: 157 layers, 7018216 parameters, 0 gradients, 15.8 GFLOPs\n",
            "\u001b[34m\u001b[1mval: \u001b[0mScanning '/content/drive/MyDrive/Colab Notebooks/project4/yolov5/Socar_Hackerthon-2/val.cache' images and labels... 598 found, 0 missing, 0 empty, 0 corrupt: 100% 598/598 [00:00<?, ?it/s]\n",
            "                 Class     Images  Instances          P          R      mAP50   mAP50-95: 100% 19/19 [00:04<00:00,  4.30it/s]\n",
            "                   all        598        990      0.507      0.328      0.317      0.111\n",
            "                 crack        598         57       0.48      0.316        0.3     0.0979\n",
            "                  dent        598         49      0.496      0.245       0.23     0.0793\n",
            "               scratch        598        884      0.545      0.423      0.421      0.156\n",
            "Speed: 0.1ms pre-process, 0.6ms inference, 1.9ms NMS per image at shape (32, 3, 416, 416)\n",
            "Results saved to \u001b[1mruns/val/exp18\u001b[0m\n"
          ]
        }
      ]
    },
    {
      "cell_type": "markdown",
      "source": [
        "4. Grey scale "
      ],
      "metadata": {
        "id": "rpPc7W1wJALM"
      }
    },
    {
      "cell_type": "code",
      "source": [
        "## cars_yolov5s_results5\n",
        "%cd '/content/drive/MyDrive/Colab Notebooks/project4/yolov5'\n",
        "# task  'speed or study' 'val'\n",
        "!python val.py --weights '/content/drive/MyDrive/Colab Notebooks/project4/yolov5/runs/train/cars_yolov5s_results5/weights/best.pt' --data '/content/drive/MyDrive/Colab Notebooks/project4/yolov5/Socar_Hackerthon-2/data.yaml' --img 416 --task 'val'\n"
      ],
      "metadata": {
        "id": "POQrsNUZGgcv",
        "colab": {
          "base_uri": "https://localhost:8080/"
        },
        "outputId": "3aa87c5a-dc2f-4c0a-8c08-b294706117d2"
      },
      "execution_count": 11,
      "outputs": [
        {
          "output_type": "stream",
          "name": "stdout",
          "text": [
            "/content/drive/MyDrive/Colab Notebooks/project4/yolov5\n",
            "\u001b[34m\u001b[1mval: \u001b[0mdata=/content/drive/MyDrive/Colab Notebooks/project4/yolov5/Socar_Hackerthon-2/data.yaml, weights=['/content/drive/MyDrive/Colab Notebooks/project4/yolov5/runs/train/cars_yolov5s_results5/weights/best.pt'], batch_size=32, imgsz=416, conf_thres=0.001, iou_thres=0.6, max_det=300, task=val, device=, workers=8, single_cls=False, augment=False, verbose=False, save_txt=False, save_hybrid=False, save_conf=False, save_json=False, project=runs/val, name=exp, exist_ok=False, half=False, dnn=False\n",
            "fatal: cannot change to '/content/drive/MyDrive/Colab': No such file or directory\n",
            "YOLOv5 🚀 2022-9-29 Python-3.7.15 torch-1.12.1+cu113 CUDA:0 (A100-SXM4-40GB, 40536MiB)\n",
            "\n",
            "Fusing layers... \n",
            "YOLOv5s summary: 157 layers, 7018216 parameters, 0 gradients, 15.8 GFLOPs\n",
            "\u001b[34m\u001b[1mval: \u001b[0mScanning '/content/drive/MyDrive/Colab Notebooks/project4/yolov5/Socar_Hackerthon-2/val.cache' images and labels... 598 found, 0 missing, 0 empty, 0 corrupt: 100% 598/598 [00:00<?, ?it/s]\n",
            "                 Class     Images  Instances          P          R      mAP50   mAP50-95: 100% 19/19 [00:04<00:00,  3.83it/s]\n",
            "                   all        598        990      0.977      0.933      0.957      0.709\n",
            "                 crack        598         57      0.978       0.93      0.964      0.674\n",
            "                  dent        598         49       0.98      0.918      0.936      0.743\n",
            "               scratch        598        884      0.973      0.951      0.973      0.711\n",
            "Speed: 0.1ms pre-process, 0.6ms inference, 2.5ms NMS per image at shape (32, 3, 416, 416)\n",
            "Results saved to \u001b[1mruns/val/exp19\u001b[0m\n"
          ]
        }
      ]
    },
    {
      "cell_type": "code",
      "execution_count": 11,
      "metadata": {
        "id": "wtKEmWPRHYpg"
      },
      "outputs": [],
      "source": []
    }
  ]
}