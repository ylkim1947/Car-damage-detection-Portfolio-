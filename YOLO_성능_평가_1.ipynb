{
  "nbformat": 4,
  "nbformat_minor": 0,
  "metadata": {
    "colab": {
      "provenance": [],
      "machine_shape": "hm",
      "authorship_tag": "ABX9TyNwqEJJeyXrYmH1FXpA9o8A",
      "include_colab_link": true
    },
    "kernelspec": {
      "name": "python3",
      "display_name": "Python 3"
    },
    "language_info": {
      "name": "python"
    },
    "accelerator": "GPU",
    "gpuClass": "premium"
  },
  "cells": [
    {
      "cell_type": "markdown",
      "metadata": {
        "id": "view-in-github",
        "colab_type": "text"
      },
      "source": [
        "<a href=\"https://colab.research.google.com/github/ylkim1947/Section6---Car-damage-detection/blob/main/YOLO_%EC%84%B1%EB%8A%A5_%ED%8F%89%EA%B0%80_1.ipynb\" target=\"_parent\"><img src=\"https://colab.research.google.com/assets/colab-badge.svg\" alt=\"Open In Colab\"/></a>"
      ]
    },
    {
      "cell_type": "markdown",
      "source": [
        "각 전처리 유형별로 저장된 Weight로 Original data 테스트 및 성능 평가 \n",
        "1. "
      ],
      "metadata": {
        "id": "d9mGvZP3ILS5"
      }
    },
    {
      "cell_type": "markdown",
      "source": [
        "# 1. Data 준비하기"
      ],
      "metadata": {
        "id": "XxVZaR70rh5f"
      }
    },
    {
      "cell_type": "code",
      "source": [
        "from google.colab import drive\n",
        "drive.mount('/content/drive')"
      ],
      "metadata": {
        "id": "o4grNY--1IoZ",
        "outputId": "f18432d9-2c6e-4951-98a1-cdd5c50d1f3b",
        "colab": {
          "base_uri": "https://localhost:8080/"
        }
      },
      "execution_count": 1,
      "outputs": [
        {
          "output_type": "stream",
          "name": "stdout",
          "text": [
            "Mounted at /content/drive\n"
          ]
        }
      ]
    },
    {
      "cell_type": "code",
      "metadata": {
        "id": "59bxmTd0krk4",
        "colab": {
          "base_uri": "https://localhost:8080/"
        },
        "outputId": "2aa1874b-7122-4e9d-9e78-ead7e9c39e92"
      },
      "source": [
        "data_type='images'# 'images_normalization'#\n",
        "from glob import glob\n",
        "YOLO_path ='/content/drive/MyDrive/Colab Notebooks/project4/yolov5'\n",
        "DATA_path = YOLO_path+'/Socar_Hackerthon-2'\n",
        "\n",
        "dataset_path ='/content/drive/MyDrive/Colab Notebooks/project4/yolov5/Socar_Hackerthon-2'\n",
        "img_list = glob(DATA_path +f'/train/{data_type}/*.jpg')\n",
        "\n",
        "print(len(img_list))"
      ],
      "execution_count": 2,
      "outputs": [
        {
          "output_type": "stream",
          "name": "stdout",
          "text": [
            "2989\n"
          ]
        }
      ]
    },
    {
      "cell_type": "code",
      "metadata": {
        "id": "cJbipgDylAHY",
        "colab": {
          "base_uri": "https://localhost:8080/"
        },
        "outputId": "32366fff-7786-44d6-c545-37886bef3cf7"
      },
      "source": [
        "from sklearn.model_selection import train_test_split\n",
        "\n",
        "train_img_list, val_img_list = train_test_split(img_list, test_size=0.2, random_state=2000)\n",
        "\n",
        "print(len(train_img_list), len(val_img_list))"
      ],
      "execution_count": 3,
      "outputs": [
        {
          "output_type": "stream",
          "name": "stdout",
          "text": [
            "2391 598\n"
          ]
        }
      ]
    },
    {
      "cell_type": "code",
      "metadata": {
        "id": "YewU3sWClTyh"
      },
      "source": [
        "with open(DATA_path +'train.txt', 'w') as f:\n",
        "  f.write('\\n'.join(train_img_list) + '\\n')\n",
        "\n",
        "with open(DATA_path+'/val.txt', 'w') as f:\n",
        "  f.write('\\n'.join(val_img_list) + '\\n')"
      ],
      "execution_count": 4,
      "outputs": []
    },
    {
      "cell_type": "code",
      "metadata": {
        "id": "w8JhXyYBlrrW",
        "colab": {
          "base_uri": "https://localhost:8080/"
        },
        "outputId": "044352d6-6b94-4eed-b2e7-c682769a7c80"
      },
      "source": [
        "import yaml\n",
        "\n",
        "with open(DATA_path +'/data.yaml', 'r') as f:\n",
        "  data = yaml.load(f,Loader=yaml.FullLoader)\n",
        "\n",
        "print(data)\n",
        "\n",
        "data['train'] = DATA_path +'/train.txt'\n",
        "data['val'] = DATA_path +'/val.txt'\n",
        "\n",
        "with open(DATA_path +'/data.yaml', 'w') as f:\n",
        "  yaml.dump(data, f)\n",
        "\n",
        "print(data)"
      ],
      "execution_count": 5,
      "outputs": [
        {
          "output_type": "stream",
          "name": "stdout",
          "text": [
            "{'names': ['crack', 'dent', 'scratch'], 'nc': 3, 'train': '/content/drive/MyDrive/Colab Notebooks/project4/yolov5/Socar_Hackerthon-2/train.txt', 'val': '/content/drive/MyDrive/Colab Notebooks/project4/yolov5/Socar_Hackerthon-2/val.txt'}\n",
            "{'names': ['crack', 'dent', 'scratch'], 'nc': 3, 'train': '/content/drive/MyDrive/Colab Notebooks/project4/yolov5/Socar_Hackerthon-2/train.txt', 'val': '/content/drive/MyDrive/Colab Notebooks/project4/yolov5/Socar_Hackerthon-2/val.txt'}\n"
          ]
        }
      ]
    },
    {
      "cell_type": "markdown",
      "source": [
        "# 성능 평가\n"
      ],
      "metadata": {
        "id": "WXHQ1lDeAx0X"
      }
    },
    {
      "cell_type": "markdown",
      "source": [
        "## 1. Original"
      ],
      "metadata": {
        "id": "QL0_rFKgIctE"
      }
    },
    {
      "cell_type": "code",
      "source": [
        "## cars_yolov5s_results2 = Original \n",
        "%cd '/content/drive/MyDrive/Colab Notebooks/project4/yolov5'\n",
        "# task  'speed or study' 'val'\n",
        "!python val.py --weights '/content/drive/MyDrive/Colab Notebooks/project4/yolov5/runs/train/cars_yolov5s_results2/weights/best.pt' --data '/content/drive/MyDrive/Colab Notebooks/project4/yolov5/Socar_Hackerthon-2/data.yaml' --img 416 --task 'val'\n"
      ],
      "metadata": {
        "colab": {
          "base_uri": "https://localhost:8080/"
        },
        "id": "GKrekY5a9g2r",
        "outputId": "a6941ae4-7d6a-4fda-b672-f22b31a0c31c"
      },
      "execution_count": null,
      "outputs": [
        {
          "output_type": "stream",
          "name": "stdout",
          "text": [
            "/content/drive/MyDrive/Colab Notebooks/project4/yolov5\n",
            "\u001b[34m\u001b[1mval: \u001b[0mdata=/content/drive/MyDrive/Colab Notebooks/project4/yolov5/Socar_Hackerthon-2/data.yaml, weights=['/content/drive/MyDrive/Colab Notebooks/project4/yolov5/runs/train/cars_yolov5s_results2/weights/best.pt'], batch_size=32, imgsz=416, conf_thres=0.001, iou_thres=0.6, max_det=300, task=val, device=, workers=8, single_cls=False, augment=False, verbose=False, save_txt=False, save_hybrid=False, save_conf=False, save_json=False, project=runs/val, name=exp, exist_ok=False, half=False, dnn=False\n",
            "fatal: cannot change to '/content/drive/MyDrive/Colab': No such file or directory\n",
            "YOLOv5 🚀 2022-9-29 Python-3.7.15 torch-1.12.1+cu113 CPU\n",
            "\n",
            "Fusing layers... \n",
            "YOLOv5s summary: 157 layers, 7018216 parameters, 0 gradients\n",
            "\u001b[34m\u001b[1mval: \u001b[0mScanning '/content/drive/MyDrive/Colab Notebooks/project4/yolov5/Socar_Hackerthon-2/val' images and labels...598 found, 0 missing, 0 empty, 0 corrupt: 100% 598/598 [12:32<00:00,  1.26s/it]\n",
            "\u001b[34m\u001b[1mval: \u001b[0mNew cache created: /content/drive/MyDrive/Colab Notebooks/project4/yolov5/Socar_Hackerthon-2/val.cache\n",
            "                 Class     Images  Instances          P          R      mAP50   mAP50-95: 100% 19/19 [02:19<00:00,  7.34s/it]\n",
            "                   all        598        965      0.935      0.802      0.883      0.584\n",
            "                 crack        598         71      0.982      0.783      0.918      0.582\n",
            "                  dent        598         51       0.93      0.777      0.839      0.599\n",
            "               scratch        598        843      0.893      0.846      0.892      0.571\n",
            "Speed: 1.8ms pre-process, 226.9ms inference, 0.9ms NMS per image at shape (32, 3, 416, 416)\n",
            "Results saved to \u001b[1mruns/val/exp3\u001b[0m\n"
          ]
        }
      ]
    },
    {
      "cell_type": "markdown",
      "source": [
        "## 2. Normalization "
      ],
      "metadata": {
        "id": "IvY1A642ImHV"
      }
    },
    {
      "cell_type": "code",
      "source": [
        "## cars_yolov5s_results3 = Normalized images \n",
        "\n",
        "%cd '/content/drive/MyDrive/Colab Notebooks/project4/yolov5'\n",
        "# task  'speed or study' 'val'\n",
        "!python val.py --weights '/content/drive/MyDrive/Colab Notebooks/project4/yolov5/runs/train/cars_yolov5s_results3/weights/best.pt' --data '/content/drive/MyDrive/Colab Notebooks/project4/yolov5/Socar_Hackerthon-2/data.yaml' --img 416 --task 'val'\n"
      ],
      "metadata": {
        "colab": {
          "base_uri": "https://localhost:8080/"
        },
        "id": "dxLRVLhTFJEj",
        "outputId": "59364693-abd3-4617-d9ba-17fa329e34f1"
      },
      "execution_count": 6,
      "outputs": [
        {
          "output_type": "stream",
          "name": "stdout",
          "text": [
            "/content/drive/MyDrive/Colab Notebooks/project4/yolov5\n",
            "\u001b[34m\u001b[1mval: \u001b[0mdata=/content/drive/MyDrive/Colab Notebooks/project4/yolov5/Socar_Hackerthon-2/data.yaml, weights=['/content/drive/MyDrive/Colab Notebooks/project4/yolov5/runs/train/cars_yolov5s_results3/weights/best.pt'], batch_size=32, imgsz=416, conf_thres=0.001, iou_thres=0.6, max_det=300, task=val, device=, workers=8, single_cls=False, augment=False, verbose=False, save_txt=False, save_hybrid=False, save_conf=False, save_json=False, project=runs/val, name=exp, exist_ok=False, half=False, dnn=False\n",
            "\u001b[31m\u001b[1mrequirements:\u001b[0m YOLOv5 requirement \"ipython\" not found, attempting AutoUpdate...\n",
            "Looking in indexes: https://pypi.org/simple, https://us-python.pkg.dev/colab-wheels/public/simple/\n",
            "Requirement already satisfied: ipython in /usr/local/lib/python3.7/dist-packages (7.9.0)\n",
            "Requirement already satisfied: setuptools>=18.5 in /usr/local/lib/python3.7/dist-packages (from ipython) (57.4.0)\n",
            "Requirement already satisfied: backcall in /usr/local/lib/python3.7/dist-packages (from ipython) (0.2.0)\n",
            "Requirement already satisfied: pickleshare in /usr/local/lib/python3.7/dist-packages (from ipython) (0.7.5)\n",
            "Collecting jedi>=0.10\n",
            "  Downloading jedi-0.18.1-py2.py3-none-any.whl (1.6 MB)\n",
            "Requirement already satisfied: decorator in /usr/local/lib/python3.7/dist-packages (from ipython) (4.4.2)\n",
            "Requirement already satisfied: prompt-toolkit<2.1.0,>=2.0.0 in /usr/local/lib/python3.7/dist-packages (from ipython) (2.0.10)\n",
            "Requirement already satisfied: pygments in /usr/local/lib/python3.7/dist-packages (from ipython) (2.6.1)\n",
            "Requirement already satisfied: pexpect in /usr/local/lib/python3.7/dist-packages (from ipython) (4.8.0)\n",
            "Requirement already satisfied: traitlets>=4.2 in /usr/local/lib/python3.7/dist-packages (from ipython) (5.1.1)\n",
            "Requirement already satisfied: parso<0.9.0,>=0.8.0 in /usr/local/lib/python3.7/dist-packages (from jedi>=0.10->ipython) (0.8.3)\n",
            "Requirement already satisfied: wcwidth in /usr/local/lib/python3.7/dist-packages (from prompt-toolkit<2.1.0,>=2.0.0->ipython) (0.2.5)\n",
            "Requirement already satisfied: six>=1.9.0 in /usr/local/lib/python3.7/dist-packages (from prompt-toolkit<2.1.0,>=2.0.0->ipython) (1.15.0)\n",
            "Requirement already satisfied: ptyprocess>=0.5 in /usr/local/lib/python3.7/dist-packages (from pexpect->ipython) (0.7.0)\n",
            "Installing collected packages: jedi\n",
            "Successfully installed jedi-0.18.1\n",
            "\n",
            "\u001b[31m\u001b[1mrequirements:\u001b[0m 1 package updated per /content/drive/MyDrive/Colab Notebooks/project4/yolov5/requirements.txt\n",
            "\u001b[31m\u001b[1mrequirements:\u001b[0m ⚠️ \u001b[1mRestart runtime or rerun command for updates to take effect\u001b[0m\n",
            "\n",
            "fatal: cannot change to '/content/drive/MyDrive/Colab': No such file or directory\n",
            "YOLOv5 🚀 2022-9-29 Python-3.7.15 torch-1.12.1+cu113 CUDA:0 (A100-SXM4-40GB, 40536MiB)\n",
            "\n",
            "Fusing layers... \n",
            "YOLOv5s summary: 157 layers, 7018216 parameters, 0 gradients\n",
            "Downloading https://ultralytics.com/assets/Arial.ttf to /root/.config/Ultralytics/Arial.ttf...\n",
            "100% 755k/755k [00:00<00:00, 17.9MB/s]\n",
            "\u001b[34m\u001b[1mval: \u001b[0mScanning '/content/drive/MyDrive/Colab Notebooks/project4/yolov5/Socar_Hackerthon-2/val.cache' images and labels... 598 found, 0 missing, 0 empty, 0 corrupt: 100% 598/598 [00:00<?, ?it/s]\n",
            "                 Class     Images  Instances          P          R      mAP50   mAP50-95: 100% 19/19 [00:40<00:00,  2.12s/it]\n",
            "                   all        598        965      0.594      0.358      0.388      0.182\n",
            "                 crack        598         71      0.633       0.34      0.403      0.198\n",
            "                  dent        598         51      0.527      0.176      0.199     0.0932\n",
            "               scratch        598        843      0.622      0.559      0.563      0.255\n",
            "Speed: 0.1ms pre-process, 0.6ms inference, 2.2ms NMS per image at shape (32, 3, 416, 416)\n",
            "Results saved to \u001b[1mruns/val/exp5\u001b[0m\n"
          ]
        }
      ]
    },
    {
      "cell_type": "markdown",
      "source": [
        "## 3. Gaussian noise"
      ],
      "metadata": {
        "id": "qJ_sp_bEI7uo"
      }
    },
    {
      "cell_type": "code",
      "source": [
        "## cars_yolov5s_results4\n",
        "%cd '/content/drive/MyDrive/Colab Notebooks/project4/yolov5'\n",
        "# task  'speed or study' 'val'\n",
        "!python val.py --weights '/content/drive/MyDrive/Colab Notebooks/project4/yolov5/runs/train/cars_yolov5s_results4/weights/best.pt' --data '/content/drive/MyDrive/Colab Notebooks/project4/yolov5/Socar_Hackerthon-2/data.yaml' --img 416 --task 'val'\n"
      ],
      "metadata": {
        "id": "Oul2CYLwGTYc",
        "colab": {
          "base_uri": "https://localhost:8080/"
        },
        "outputId": "9d2ea6cd-0266-4cbe-ade8-8bb98b457c25"
      },
      "execution_count": 7,
      "outputs": [
        {
          "output_type": "stream",
          "name": "stdout",
          "text": [
            "/content/drive/MyDrive/Colab Notebooks/project4/yolov5\n",
            "\u001b[34m\u001b[1mval: \u001b[0mdata=/content/drive/MyDrive/Colab Notebooks/project4/yolov5/Socar_Hackerthon-2/data.yaml, weights=['/content/drive/MyDrive/Colab Notebooks/project4/yolov5/runs/train/cars_yolov5s_results4/weights/best.pt'], batch_size=32, imgsz=416, conf_thres=0.001, iou_thres=0.6, max_det=300, task=val, device=, workers=8, single_cls=False, augment=False, verbose=False, save_txt=False, save_hybrid=False, save_conf=False, save_json=False, project=runs/val, name=exp, exist_ok=False, half=False, dnn=False\n",
            "fatal: cannot change to '/content/drive/MyDrive/Colab': No such file or directory\n",
            "YOLOv5 🚀 2022-9-29 Python-3.7.15 torch-1.12.1+cu113 CUDA:0 (A100-SXM4-40GB, 40536MiB)\n",
            "\n",
            "Fusing layers... \n",
            "YOLOv5s summary: 157 layers, 7018216 parameters, 0 gradients\n",
            "\u001b[34m\u001b[1mval: \u001b[0mScanning '/content/drive/MyDrive/Colab Notebooks/project4/yolov5/Socar_Hackerthon-2/val.cache' images and labels... 598 found, 0 missing, 0 empty, 0 corrupt: 100% 598/598 [00:00<?, ?it/s]\n",
            "                 Class     Images  Instances          P          R      mAP50   mAP50-95: 100% 19/19 [00:04<00:00,  4.33it/s]\n",
            "                   all        598        965      0.625      0.263      0.273     0.0974\n",
            "                 crack        598         71      0.579      0.271      0.282      0.114\n",
            "                  dent        598         51      0.857      0.176      0.221     0.0728\n",
            "               scratch        598        843       0.44      0.343      0.316      0.106\n",
            "Speed: 0.1ms pre-process, 0.6ms inference, 2.4ms NMS per image at shape (32, 3, 416, 416)\n",
            "Results saved to \u001b[1mruns/val/exp6\u001b[0m\n"
          ]
        }
      ]
    },
    {
      "cell_type": "markdown",
      "source": [
        "4. Grey scale "
      ],
      "metadata": {
        "id": "rpPc7W1wJALM"
      }
    },
    {
      "cell_type": "code",
      "source": [
        "## cars_yolov5s_results5\n",
        "%cd '/content/drive/MyDrive/Colab Notebooks/project4/yolov5'\n",
        "# task  'speed or study' 'val'\n",
        "!python val.py --weights '/content/drive/MyDrive/Colab Notebooks/project4/yolov5/runs/train/cars_yolov5s_results5/weights/best.pt' --data '/content/drive/MyDrive/Colab Notebooks/project4/yolov5/Socar_Hackerthon-2/data.yaml' --img 416 --task 'val'\n"
      ],
      "metadata": {
        "id": "POQrsNUZGgcv",
        "colab": {
          "base_uri": "https://localhost:8080/"
        },
        "outputId": "0ecb5f24-676b-4eb2-c96a-a1bd65f166bd"
      },
      "execution_count": 8,
      "outputs": [
        {
          "output_type": "stream",
          "name": "stdout",
          "text": [
            "/content/drive/MyDrive/Colab Notebooks/project4/yolov5\n",
            "\u001b[34m\u001b[1mval: \u001b[0mdata=/content/drive/MyDrive/Colab Notebooks/project4/yolov5/Socar_Hackerthon-2/data.yaml, weights=['/content/drive/MyDrive/Colab Notebooks/project4/yolov5/runs/train/cars_yolov5s_results5/weights/best.pt'], batch_size=32, imgsz=416, conf_thres=0.001, iou_thres=0.6, max_det=300, task=val, device=, workers=8, single_cls=False, augment=False, verbose=False, save_txt=False, save_hybrid=False, save_conf=False, save_json=False, project=runs/val, name=exp, exist_ok=False, half=False, dnn=False\n",
            "fatal: cannot change to '/content/drive/MyDrive/Colab': No such file or directory\n",
            "YOLOv5 🚀 2022-9-29 Python-3.7.15 torch-1.12.1+cu113 CUDA:0 (A100-SXM4-40GB, 40536MiB)\n",
            "\n",
            "Fusing layers... \n",
            "YOLOv5s summary: 157 layers, 7018216 parameters, 0 gradients\n",
            "\u001b[34m\u001b[1mval: \u001b[0mScanning '/content/drive/MyDrive/Colab Notebooks/project4/yolov5/Socar_Hackerthon-2/val.cache' images and labels... 598 found, 0 missing, 0 empty, 0 corrupt: 100% 598/598 [00:00<?, ?it/s]\n",
            "                 Class     Images  Instances          P          R      mAP50   mAP50-95: 100% 19/19 [00:04<00:00,  3.94it/s]\n",
            "                   all        598        965      0.915      0.824       0.87      0.571\n",
            "                 crack        598         71      0.951       0.82      0.877      0.573\n",
            "                  dent        598         51      0.936      0.804      0.847      0.587\n",
            "               scratch        598        843      0.858      0.849      0.887      0.554\n",
            "Speed: 0.1ms pre-process, 0.6ms inference, 1.6ms NMS per image at shape (32, 3, 416, 416)\n",
            "Results saved to \u001b[1mruns/val/exp7\u001b[0m\n"
          ]
        }
      ]
    },
    {
      "cell_type": "code",
      "execution_count": null,
      "metadata": {
        "id": "wtKEmWPRHYpg"
      },
      "outputs": [],
      "source": []
    }
  ]
}